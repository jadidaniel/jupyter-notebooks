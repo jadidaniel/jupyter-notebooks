{
 "cells": [
  {
   "cell_type": "markdown",
   "metadata": {},
   "source": [
    "# Predict Continent and Language by Flag\n",
    "\n",
    "In this project, we’ll use decision trees to predict the continent a country is located on, and its language based on features of its flag and other country's properties. For instance, some colors are good indicators as well as the presence or absence of certain shapes could give one a hint. We’ll explore which features are the best to use to create several decision trees and compare their results. The [**Flags Data Set**](https://archive.ics.uci.edu/ml/datasets/Flags) used in this project is provided by UCI’s Machine Learning Repository.\n",
    "\n",
    "Attribute Information:\n",
    "\n",
    "1. name: Name of the country concerned\n",
    "2. landmass: 1=N.America, 2=S.America, 3=Europe, 4=Africa, 4=Asia, 6=Oceania\n",
    "3. zone: Geographic quadrant, based on Greenwich and the Equator; 1=NE, 2=SE, 3=SW, 4=NW\n",
    "4. area: in thousands of square km\n",
    "5. population: in round millions\n",
    "6. language: 1=English, 2=Spanish, 3=French, 4=German, 5=Slavic, 6=Other Indo-European, 7=Chinese, 8=Arabic, 9=Japanese/Turkish/Finnish/Magyar, 10=Others\n",
    "7. religion: 0=Catholic, 1=Other Christian, 2=Muslim, 3=Buddhist, 4=Hindu, 5=Ethnic, 6=Marxist, 7=Others\n",
    "8. bars: Number of vertical bars in the flag\n",
    "9. stripes: Number of horizontal stripes in the flag\n",
    "10. colours: Number of different colours in the flag\n",
    "11. red: 0 if red absent, 1 if red present in the flag\n",
    "12. green: same for green\n",
    "13. blue: same for blue\n",
    "14. gold: same for gold (also yellow)\n",
    "15. white: same for white\n",
    "16. black: same for black\n",
    "17. orange: same for orange (also brown)\n",
    "18. mainhue: predominant colour in the flag (tie-breaks decided by taking the topmost hue, if that fails then the most central hue, and if that fails the leftmost hue)\n",
    "19. circles: Number of circles in the flag\n",
    "20. crosses: Number of (upright) crosses\n",
    "21. saltires: Number of diagonal crosses\n",
    "22. quarters: Number of quartered sections\n",
    "23. sunstars: Number of sun or star symbols\n",
    "24. crescent: 1 if a crescent moon symbol present, else 0\n",
    "25. triangle: 1 if any triangles present, 0 otherwise\n",
    "26. icon: 1 if an inanimate image present (e.g., a boat), otherwise 0\n",
    "27. animate: 1 if an animate image (e.g., an eagle, a tree, a human hand) present, 0 otherwise\n",
    "28. text: 1 if any letters or writing on the flag (e.g., a motto or slogan), 0 otherwise\n",
    "29. topleft: colour in the top-left corner (moving right to decide tie-breaks)\n",
    "30. botright: Colour in the bottom-left corner (moving left to decide tie-breaks)\n",
    "\n",
    "## Investigate the Data\n",
    "\n",
    "1.Let’s start with necessary imports and uploading data from `flags.csv` to the variable `flags`."
   ]
  },
  {
   "cell_type": "code",
   "execution_count": 34,
   "metadata": {},
   "outputs": [],
   "source": [
    "# Basic imports related to analysis\n",
    "import pandas as pd\n",
    "import numpy as np\n",
    "\n",
    "# Imports for ml\n",
    "from sklearn.model_selection import train_test_split\n",
    "from sklearn.tree import DecisionTreeClassifier\n",
    "\n",
    "# Imports for visualisationin\n",
    "import matplotlib.pyplot as plt\n",
    "import seaborn as sns"
   ]
  },
  {
   "cell_type": "code",
   "execution_count": 35,
   "metadata": {},
   "outputs": [
    {
     "data": {
      "text/html": [
       "<div>\n",
       "<style scoped>\n",
       "    .dataframe tbody tr th:only-of-type {\n",
       "        vertical-align: middle;\n",
       "    }\n",
       "\n",
       "    .dataframe tbody tr th {\n",
       "        vertical-align: top;\n",
       "    }\n",
       "\n",
       "    .dataframe thead th {\n",
       "        text-align: right;\n",
       "    }\n",
       "</style>\n",
       "<table border=\"1\" class=\"dataframe\">\n",
       "  <thead>\n",
       "    <tr style=\"text-align: right;\">\n",
       "      <th></th>\n",
       "      <th>Name</th>\n",
       "      <th>Landmass</th>\n",
       "      <th>Zone</th>\n",
       "      <th>Area</th>\n",
       "      <th>Population</th>\n",
       "      <th>Language</th>\n",
       "      <th>Religion</th>\n",
       "      <th>Bars</th>\n",
       "      <th>Stripes</th>\n",
       "      <th>Colors</th>\n",
       "      <th>Red</th>\n",
       "      <th>Green</th>\n",
       "      <th>Blue</th>\n",
       "      <th>Gold</th>\n",
       "      <th>White</th>\n",
       "      <th>Black</th>\n",
       "      <th>Orange</th>\n",
       "      <th>Mainhue</th>\n",
       "      <th>Circles</th>\n",
       "      <th>Crosses</th>\n",
       "      <th>Saltires</th>\n",
       "      <th>Quarters</th>\n",
       "      <th>Sunstars</th>\n",
       "      <th>Crescent</th>\n",
       "      <th>Triangle</th>\n",
       "      <th>Icon</th>\n",
       "      <th>Animate</th>\n",
       "      <th>Text</th>\n",
       "      <th>Topleft</th>\n",
       "      <th>Botright</th>\n",
       "    </tr>\n",
       "  </thead>\n",
       "  <tbody>\n",
       "    <tr>\n",
       "      <th>0</th>\n",
       "      <td>Afghanistan</td>\n",
       "      <td>5</td>\n",
       "      <td>1</td>\n",
       "      <td>648</td>\n",
       "      <td>16</td>\n",
       "      <td>10</td>\n",
       "      <td>2</td>\n",
       "      <td>0</td>\n",
       "      <td>3</td>\n",
       "      <td>5</td>\n",
       "      <td>1</td>\n",
       "      <td>1</td>\n",
       "      <td>0</td>\n",
       "      <td>1</td>\n",
       "      <td>1</td>\n",
       "      <td>1</td>\n",
       "      <td>0</td>\n",
       "      <td>green</td>\n",
       "      <td>0</td>\n",
       "      <td>0</td>\n",
       "      <td>0</td>\n",
       "      <td>0</td>\n",
       "      <td>1</td>\n",
       "      <td>0</td>\n",
       "      <td>0</td>\n",
       "      <td>1</td>\n",
       "      <td>0</td>\n",
       "      <td>0</td>\n",
       "      <td>black</td>\n",
       "      <td>green</td>\n",
       "    </tr>\n",
       "    <tr>\n",
       "      <th>1</th>\n",
       "      <td>Albania</td>\n",
       "      <td>3</td>\n",
       "      <td>1</td>\n",
       "      <td>29</td>\n",
       "      <td>3</td>\n",
       "      <td>6</td>\n",
       "      <td>6</td>\n",
       "      <td>0</td>\n",
       "      <td>0</td>\n",
       "      <td>3</td>\n",
       "      <td>1</td>\n",
       "      <td>0</td>\n",
       "      <td>0</td>\n",
       "      <td>1</td>\n",
       "      <td>0</td>\n",
       "      <td>1</td>\n",
       "      <td>0</td>\n",
       "      <td>red</td>\n",
       "      <td>0</td>\n",
       "      <td>0</td>\n",
       "      <td>0</td>\n",
       "      <td>0</td>\n",
       "      <td>1</td>\n",
       "      <td>0</td>\n",
       "      <td>0</td>\n",
       "      <td>0</td>\n",
       "      <td>1</td>\n",
       "      <td>0</td>\n",
       "      <td>red</td>\n",
       "      <td>red</td>\n",
       "    </tr>\n",
       "    <tr>\n",
       "      <th>2</th>\n",
       "      <td>Algeria</td>\n",
       "      <td>4</td>\n",
       "      <td>1</td>\n",
       "      <td>2388</td>\n",
       "      <td>20</td>\n",
       "      <td>8</td>\n",
       "      <td>2</td>\n",
       "      <td>2</td>\n",
       "      <td>0</td>\n",
       "      <td>3</td>\n",
       "      <td>1</td>\n",
       "      <td>1</td>\n",
       "      <td>0</td>\n",
       "      <td>0</td>\n",
       "      <td>1</td>\n",
       "      <td>0</td>\n",
       "      <td>0</td>\n",
       "      <td>green</td>\n",
       "      <td>0</td>\n",
       "      <td>0</td>\n",
       "      <td>0</td>\n",
       "      <td>0</td>\n",
       "      <td>1</td>\n",
       "      <td>1</td>\n",
       "      <td>0</td>\n",
       "      <td>0</td>\n",
       "      <td>0</td>\n",
       "      <td>0</td>\n",
       "      <td>green</td>\n",
       "      <td>white</td>\n",
       "    </tr>\n",
       "    <tr>\n",
       "      <th>3</th>\n",
       "      <td>American-Samoa</td>\n",
       "      <td>6</td>\n",
       "      <td>3</td>\n",
       "      <td>0</td>\n",
       "      <td>0</td>\n",
       "      <td>1</td>\n",
       "      <td>1</td>\n",
       "      <td>0</td>\n",
       "      <td>0</td>\n",
       "      <td>5</td>\n",
       "      <td>1</td>\n",
       "      <td>0</td>\n",
       "      <td>1</td>\n",
       "      <td>1</td>\n",
       "      <td>1</td>\n",
       "      <td>0</td>\n",
       "      <td>1</td>\n",
       "      <td>blue</td>\n",
       "      <td>0</td>\n",
       "      <td>0</td>\n",
       "      <td>0</td>\n",
       "      <td>0</td>\n",
       "      <td>0</td>\n",
       "      <td>0</td>\n",
       "      <td>1</td>\n",
       "      <td>1</td>\n",
       "      <td>1</td>\n",
       "      <td>0</td>\n",
       "      <td>blue</td>\n",
       "      <td>red</td>\n",
       "    </tr>\n",
       "    <tr>\n",
       "      <th>4</th>\n",
       "      <td>Andorra</td>\n",
       "      <td>3</td>\n",
       "      <td>1</td>\n",
       "      <td>0</td>\n",
       "      <td>0</td>\n",
       "      <td>6</td>\n",
       "      <td>0</td>\n",
       "      <td>3</td>\n",
       "      <td>0</td>\n",
       "      <td>3</td>\n",
       "      <td>1</td>\n",
       "      <td>0</td>\n",
       "      <td>1</td>\n",
       "      <td>1</td>\n",
       "      <td>0</td>\n",
       "      <td>0</td>\n",
       "      <td>0</td>\n",
       "      <td>gold</td>\n",
       "      <td>0</td>\n",
       "      <td>0</td>\n",
       "      <td>0</td>\n",
       "      <td>0</td>\n",
       "      <td>0</td>\n",
       "      <td>0</td>\n",
       "      <td>0</td>\n",
       "      <td>0</td>\n",
       "      <td>0</td>\n",
       "      <td>0</td>\n",
       "      <td>blue</td>\n",
       "      <td>red</td>\n",
       "    </tr>\n",
       "    <tr>\n",
       "      <th>...</th>\n",
       "      <td>...</td>\n",
       "      <td>...</td>\n",
       "      <td>...</td>\n",
       "      <td>...</td>\n",
       "      <td>...</td>\n",
       "      <td>...</td>\n",
       "      <td>...</td>\n",
       "      <td>...</td>\n",
       "      <td>...</td>\n",
       "      <td>...</td>\n",
       "      <td>...</td>\n",
       "      <td>...</td>\n",
       "      <td>...</td>\n",
       "      <td>...</td>\n",
       "      <td>...</td>\n",
       "      <td>...</td>\n",
       "      <td>...</td>\n",
       "      <td>...</td>\n",
       "      <td>...</td>\n",
       "      <td>...</td>\n",
       "      <td>...</td>\n",
       "      <td>...</td>\n",
       "      <td>...</td>\n",
       "      <td>...</td>\n",
       "      <td>...</td>\n",
       "      <td>...</td>\n",
       "      <td>...</td>\n",
       "      <td>...</td>\n",
       "      <td>...</td>\n",
       "      <td>...</td>\n",
       "    </tr>\n",
       "    <tr>\n",
       "      <th>189</th>\n",
       "      <td>Western-Samoa</td>\n",
       "      <td>6</td>\n",
       "      <td>3</td>\n",
       "      <td>3</td>\n",
       "      <td>0</td>\n",
       "      <td>1</td>\n",
       "      <td>1</td>\n",
       "      <td>0</td>\n",
       "      <td>0</td>\n",
       "      <td>3</td>\n",
       "      <td>1</td>\n",
       "      <td>0</td>\n",
       "      <td>1</td>\n",
       "      <td>0</td>\n",
       "      <td>1</td>\n",
       "      <td>0</td>\n",
       "      <td>0</td>\n",
       "      <td>red</td>\n",
       "      <td>0</td>\n",
       "      <td>0</td>\n",
       "      <td>0</td>\n",
       "      <td>1</td>\n",
       "      <td>5</td>\n",
       "      <td>0</td>\n",
       "      <td>0</td>\n",
       "      <td>0</td>\n",
       "      <td>0</td>\n",
       "      <td>0</td>\n",
       "      <td>blue</td>\n",
       "      <td>red</td>\n",
       "    </tr>\n",
       "    <tr>\n",
       "      <th>190</th>\n",
       "      <td>Yugoslavia</td>\n",
       "      <td>3</td>\n",
       "      <td>1</td>\n",
       "      <td>256</td>\n",
       "      <td>22</td>\n",
       "      <td>6</td>\n",
       "      <td>6</td>\n",
       "      <td>0</td>\n",
       "      <td>3</td>\n",
       "      <td>4</td>\n",
       "      <td>1</td>\n",
       "      <td>0</td>\n",
       "      <td>1</td>\n",
       "      <td>1</td>\n",
       "      <td>1</td>\n",
       "      <td>0</td>\n",
       "      <td>0</td>\n",
       "      <td>red</td>\n",
       "      <td>0</td>\n",
       "      <td>0</td>\n",
       "      <td>0</td>\n",
       "      <td>0</td>\n",
       "      <td>1</td>\n",
       "      <td>0</td>\n",
       "      <td>0</td>\n",
       "      <td>0</td>\n",
       "      <td>0</td>\n",
       "      <td>0</td>\n",
       "      <td>blue</td>\n",
       "      <td>red</td>\n",
       "    </tr>\n",
       "    <tr>\n",
       "      <th>191</th>\n",
       "      <td>Zaire</td>\n",
       "      <td>4</td>\n",
       "      <td>2</td>\n",
       "      <td>905</td>\n",
       "      <td>28</td>\n",
       "      <td>10</td>\n",
       "      <td>5</td>\n",
       "      <td>0</td>\n",
       "      <td>0</td>\n",
       "      <td>4</td>\n",
       "      <td>1</td>\n",
       "      <td>1</td>\n",
       "      <td>0</td>\n",
       "      <td>1</td>\n",
       "      <td>0</td>\n",
       "      <td>0</td>\n",
       "      <td>1</td>\n",
       "      <td>green</td>\n",
       "      <td>1</td>\n",
       "      <td>0</td>\n",
       "      <td>0</td>\n",
       "      <td>0</td>\n",
       "      <td>0</td>\n",
       "      <td>0</td>\n",
       "      <td>0</td>\n",
       "      <td>1</td>\n",
       "      <td>1</td>\n",
       "      <td>0</td>\n",
       "      <td>green</td>\n",
       "      <td>green</td>\n",
       "    </tr>\n",
       "    <tr>\n",
       "      <th>192</th>\n",
       "      <td>Zambia</td>\n",
       "      <td>4</td>\n",
       "      <td>2</td>\n",
       "      <td>753</td>\n",
       "      <td>6</td>\n",
       "      <td>10</td>\n",
       "      <td>5</td>\n",
       "      <td>3</td>\n",
       "      <td>0</td>\n",
       "      <td>4</td>\n",
       "      <td>1</td>\n",
       "      <td>1</td>\n",
       "      <td>0</td>\n",
       "      <td>0</td>\n",
       "      <td>0</td>\n",
       "      <td>1</td>\n",
       "      <td>1</td>\n",
       "      <td>green</td>\n",
       "      <td>0</td>\n",
       "      <td>0</td>\n",
       "      <td>0</td>\n",
       "      <td>0</td>\n",
       "      <td>0</td>\n",
       "      <td>0</td>\n",
       "      <td>0</td>\n",
       "      <td>0</td>\n",
       "      <td>1</td>\n",
       "      <td>0</td>\n",
       "      <td>green</td>\n",
       "      <td>brown</td>\n",
       "    </tr>\n",
       "    <tr>\n",
       "      <th>193</th>\n",
       "      <td>Zimbabwe</td>\n",
       "      <td>4</td>\n",
       "      <td>2</td>\n",
       "      <td>391</td>\n",
       "      <td>8</td>\n",
       "      <td>10</td>\n",
       "      <td>5</td>\n",
       "      <td>0</td>\n",
       "      <td>7</td>\n",
       "      <td>5</td>\n",
       "      <td>1</td>\n",
       "      <td>1</td>\n",
       "      <td>0</td>\n",
       "      <td>1</td>\n",
       "      <td>1</td>\n",
       "      <td>1</td>\n",
       "      <td>0</td>\n",
       "      <td>green</td>\n",
       "      <td>0</td>\n",
       "      <td>0</td>\n",
       "      <td>0</td>\n",
       "      <td>0</td>\n",
       "      <td>1</td>\n",
       "      <td>0</td>\n",
       "      <td>1</td>\n",
       "      <td>1</td>\n",
       "      <td>1</td>\n",
       "      <td>0</td>\n",
       "      <td>green</td>\n",
       "      <td>green</td>\n",
       "    </tr>\n",
       "  </tbody>\n",
       "</table>\n",
       "<p>194 rows × 30 columns</p>\n",
       "</div>"
      ],
      "text/plain": [
       "               Name  Landmass  Zone  Area  Population  Language  Religion  \\\n",
       "0       Afghanistan         5     1   648          16        10         2   \n",
       "1           Albania         3     1    29           3         6         6   \n",
       "2           Algeria         4     1  2388          20         8         2   \n",
       "3    American-Samoa         6     3     0           0         1         1   \n",
       "4           Andorra         3     1     0           0         6         0   \n",
       "..              ...       ...   ...   ...         ...       ...       ...   \n",
       "189   Western-Samoa         6     3     3           0         1         1   \n",
       "190      Yugoslavia         3     1   256          22         6         6   \n",
       "191           Zaire         4     2   905          28        10         5   \n",
       "192          Zambia         4     2   753           6        10         5   \n",
       "193        Zimbabwe         4     2   391           8        10         5   \n",
       "\n",
       "     Bars  Stripes  Colors  Red  Green  Blue  Gold  White  Black  Orange  \\\n",
       "0       0        3       5    1      1     0     1      1      1       0   \n",
       "1       0        0       3    1      0     0     1      0      1       0   \n",
       "2       2        0       3    1      1     0     0      1      0       0   \n",
       "3       0        0       5    1      0     1     1      1      0       1   \n",
       "4       3        0       3    1      0     1     1      0      0       0   \n",
       "..    ...      ...     ...  ...    ...   ...   ...    ...    ...     ...   \n",
       "189     0        0       3    1      0     1     0      1      0       0   \n",
       "190     0        3       4    1      0     1     1      1      0       0   \n",
       "191     0        0       4    1      1     0     1      0      0       1   \n",
       "192     3        0       4    1      1     0     0      0      1       1   \n",
       "193     0        7       5    1      1     0     1      1      1       0   \n",
       "\n",
       "    Mainhue  Circles  Crosses  Saltires  Quarters  Sunstars  Crescent  \\\n",
       "0     green        0        0         0         0         1         0   \n",
       "1       red        0        0         0         0         1         0   \n",
       "2     green        0        0         0         0         1         1   \n",
       "3      blue        0        0         0         0         0         0   \n",
       "4      gold        0        0         0         0         0         0   \n",
       "..      ...      ...      ...       ...       ...       ...       ...   \n",
       "189     red        0        0         0         1         5         0   \n",
       "190     red        0        0         0         0         1         0   \n",
       "191   green        1        0         0         0         0         0   \n",
       "192   green        0        0         0         0         0         0   \n",
       "193   green        0        0         0         0         1         0   \n",
       "\n",
       "     Triangle  Icon  Animate  Text Topleft Botright  \n",
       "0           0     1        0     0   black    green  \n",
       "1           0     0        1     0     red      red  \n",
       "2           0     0        0     0   green    white  \n",
       "3           1     1        1     0    blue      red  \n",
       "4           0     0        0     0    blue      red  \n",
       "..        ...   ...      ...   ...     ...      ...  \n",
       "189         0     0        0     0    blue      red  \n",
       "190         0     0        0     0    blue      red  \n",
       "191         0     1        1     0   green    green  \n",
       "192         0     0        1     0   green    brown  \n",
       "193         1     1        1     0   green    green  \n",
       "\n",
       "[194 rows x 30 columns]"
      ]
     },
     "execution_count": 35,
     "metadata": {},
     "output_type": "execute_result"
    }
   ],
   "source": [
    "flags = pd.read_csv('flags.csv')\n",
    "pd.set_option('display.max_columns', None)\n",
    "\n",
    "flags"
   ]
  },
  {
   "cell_type": "code",
   "execution_count": 36,
   "metadata": {},
   "outputs": [
    {
     "data": {
      "text/plain": [
       "Index(['Name', 'Landmass', 'Zone', 'Area', 'Population', 'Language',\n",
       "       'Religion', 'Bars', 'Stripes', 'Colors', 'Red', 'Green', 'Blue', 'Gold',\n",
       "       'White', 'Black', 'Orange', 'Mainhue', 'Circles', 'Crosses', 'Saltires',\n",
       "       'Quarters', 'Sunstars', 'Crescent', 'Triangle', 'Icon', 'Animate',\n",
       "       'Text', 'Topleft', 'Botright'],\n",
       "      dtype='object')"
      ]
     },
     "execution_count": 36,
     "metadata": {},
     "output_type": "execute_result"
    }
   ],
   "source": [
    "flags.columns"
   ]
  },
  {
   "cell_type": "code",
   "execution_count": 37,
   "metadata": {},
   "outputs": [
    {
     "data": {
      "text/plain": [
       "Name          0\n",
       "Landmass      0\n",
       "Zone          0\n",
       "Area          0\n",
       "Population    0\n",
       "Language      0\n",
       "Religion      0\n",
       "Bars          0\n",
       "Stripes       0\n",
       "Colors        0\n",
       "Red           0\n",
       "Green         0\n",
       "Blue          0\n",
       "Gold          0\n",
       "White         0\n",
       "Black         0\n",
       "Orange        0\n",
       "Mainhue       0\n",
       "Circles       0\n",
       "Crosses       0\n",
       "Saltires      0\n",
       "Quarters      0\n",
       "Sunstars      0\n",
       "Crescent      0\n",
       "Triangle      0\n",
       "Icon          0\n",
       "Animate       0\n",
       "Text          0\n",
       "Topleft       0\n",
       "Botright      0\n",
       "dtype: int64"
      ]
     },
     "execution_count": 37,
     "metadata": {},
     "output_type": "execute_result"
    }
   ],
   "source": [
    "flags.isna().sum()"
   ]
  },
  {
   "cell_type": "markdown",
   "metadata": {},
   "source": [
    "Result: All values seems to be present. It's not unusual, considering dataset already has been cleaned and structured. "
   ]
  },
  {
   "cell_type": "code",
   "execution_count": 38,
   "metadata": {},
   "outputs": [
    {
     "data": {
      "text/plain": [
       "Name          object\n",
       "Landmass       int64\n",
       "Zone           int64\n",
       "Area           int64\n",
       "Population     int64\n",
       "Language       int64\n",
       "Religion       int64\n",
       "Bars           int64\n",
       "Stripes        int64\n",
       "Colors         int64\n",
       "Red            int64\n",
       "Green          int64\n",
       "Blue           int64\n",
       "Gold           int64\n",
       "White          int64\n",
       "Black          int64\n",
       "Orange         int64\n",
       "Mainhue       object\n",
       "Circles        int64\n",
       "Crosses        int64\n",
       "Saltires       int64\n",
       "Quarters       int64\n",
       "Sunstars       int64\n",
       "Crescent       int64\n",
       "Triangle       int64\n",
       "Icon           int64\n",
       "Animate        int64\n",
       "Text           int64\n",
       "Topleft       object\n",
       "Botright      object\n",
       "dtype: object"
      ]
     },
     "execution_count": 38,
     "metadata": {},
     "output_type": "execute_result"
    }
   ],
   "source": [
    "flags.dtypes"
   ]
  },
  {
   "cell_type": "markdown",
   "metadata": {},
   "source": [
    "Result: there are only 4 columns with non-numeric data types, but we won't be converting them to some sort of numerical format, because there could be some inherent structure issues that will be hard to address within such project."
   ]
  },
  {
   "cell_type": "code",
   "execution_count": 39,
   "metadata": {},
   "outputs": [
    {
     "data": {
      "text/html": [
       "<div>\n",
       "<style scoped>\n",
       "    .dataframe tbody tr th:only-of-type {\n",
       "        vertical-align: middle;\n",
       "    }\n",
       "\n",
       "    .dataframe tbody tr th {\n",
       "        vertical-align: top;\n",
       "    }\n",
       "\n",
       "    .dataframe thead th {\n",
       "        text-align: right;\n",
       "    }\n",
       "</style>\n",
       "<table border=\"1\" class=\"dataframe\">\n",
       "  <thead>\n",
       "    <tr style=\"text-align: right;\">\n",
       "      <th></th>\n",
       "      <th>Landmass</th>\n",
       "      <th>Zone</th>\n",
       "      <th>Area</th>\n",
       "      <th>Population</th>\n",
       "      <th>Language</th>\n",
       "      <th>Religion</th>\n",
       "      <th>Bars</th>\n",
       "      <th>Stripes</th>\n",
       "      <th>Colors</th>\n",
       "      <th>Red</th>\n",
       "      <th>Green</th>\n",
       "      <th>Blue</th>\n",
       "      <th>Gold</th>\n",
       "      <th>White</th>\n",
       "      <th>Black</th>\n",
       "      <th>Orange</th>\n",
       "      <th>Circles</th>\n",
       "      <th>Crosses</th>\n",
       "      <th>Saltires</th>\n",
       "      <th>Quarters</th>\n",
       "      <th>Sunstars</th>\n",
       "      <th>Crescent</th>\n",
       "      <th>Triangle</th>\n",
       "      <th>Icon</th>\n",
       "      <th>Animate</th>\n",
       "      <th>Text</th>\n",
       "    </tr>\n",
       "  </thead>\n",
       "  <tbody>\n",
       "    <tr>\n",
       "      <th>count</th>\n",
       "      <td>194.000000</td>\n",
       "      <td>194.000000</td>\n",
       "      <td>194.000000</td>\n",
       "      <td>194.000000</td>\n",
       "      <td>194.000000</td>\n",
       "      <td>194.000000</td>\n",
       "      <td>194.000000</td>\n",
       "      <td>194.000000</td>\n",
       "      <td>194.000000</td>\n",
       "      <td>194.000000</td>\n",
       "      <td>194.000000</td>\n",
       "      <td>194.000000</td>\n",
       "      <td>194.000000</td>\n",
       "      <td>194.000000</td>\n",
       "      <td>194.000000</td>\n",
       "      <td>194.000000</td>\n",
       "      <td>194.000000</td>\n",
       "      <td>194.000000</td>\n",
       "      <td>194.000000</td>\n",
       "      <td>194.000000</td>\n",
       "      <td>194.000000</td>\n",
       "      <td>194.000000</td>\n",
       "      <td>194.000000</td>\n",
       "      <td>194.000000</td>\n",
       "      <td>194.000000</td>\n",
       "      <td>194.000000</td>\n",
       "    </tr>\n",
       "    <tr>\n",
       "      <th>mean</th>\n",
       "      <td>3.572165</td>\n",
       "      <td>2.211340</td>\n",
       "      <td>700.046392</td>\n",
       "      <td>23.268041</td>\n",
       "      <td>5.340206</td>\n",
       "      <td>2.190722</td>\n",
       "      <td>0.453608</td>\n",
       "      <td>1.551546</td>\n",
       "      <td>3.463918</td>\n",
       "      <td>0.788660</td>\n",
       "      <td>0.469072</td>\n",
       "      <td>0.510309</td>\n",
       "      <td>0.469072</td>\n",
       "      <td>0.752577</td>\n",
       "      <td>0.268041</td>\n",
       "      <td>0.134021</td>\n",
       "      <td>0.170103</td>\n",
       "      <td>0.149485</td>\n",
       "      <td>0.092784</td>\n",
       "      <td>0.149485</td>\n",
       "      <td>1.386598</td>\n",
       "      <td>0.056701</td>\n",
       "      <td>0.139175</td>\n",
       "      <td>0.252577</td>\n",
       "      <td>0.201031</td>\n",
       "      <td>0.082474</td>\n",
       "    </tr>\n",
       "    <tr>\n",
       "      <th>std</th>\n",
       "      <td>1.553018</td>\n",
       "      <td>1.308274</td>\n",
       "      <td>2170.927932</td>\n",
       "      <td>91.934085</td>\n",
       "      <td>3.496517</td>\n",
       "      <td>2.061167</td>\n",
       "      <td>1.038339</td>\n",
       "      <td>2.328005</td>\n",
       "      <td>1.300154</td>\n",
       "      <td>0.409315</td>\n",
       "      <td>0.500334</td>\n",
       "      <td>0.501187</td>\n",
       "      <td>0.500334</td>\n",
       "      <td>0.432631</td>\n",
       "      <td>0.444085</td>\n",
       "      <td>0.341556</td>\n",
       "      <td>0.463075</td>\n",
       "      <td>0.385387</td>\n",
       "      <td>0.290879</td>\n",
       "      <td>0.435860</td>\n",
       "      <td>4.396186</td>\n",
       "      <td>0.231869</td>\n",
       "      <td>0.347025</td>\n",
       "      <td>0.435615</td>\n",
       "      <td>0.401808</td>\n",
       "      <td>0.275798</td>\n",
       "    </tr>\n",
       "    <tr>\n",
       "      <th>min</th>\n",
       "      <td>1.000000</td>\n",
       "      <td>1.000000</td>\n",
       "      <td>0.000000</td>\n",
       "      <td>0.000000</td>\n",
       "      <td>1.000000</td>\n",
       "      <td>0.000000</td>\n",
       "      <td>0.000000</td>\n",
       "      <td>0.000000</td>\n",
       "      <td>1.000000</td>\n",
       "      <td>0.000000</td>\n",
       "      <td>0.000000</td>\n",
       "      <td>0.000000</td>\n",
       "      <td>0.000000</td>\n",
       "      <td>0.000000</td>\n",
       "      <td>0.000000</td>\n",
       "      <td>0.000000</td>\n",
       "      <td>0.000000</td>\n",
       "      <td>0.000000</td>\n",
       "      <td>0.000000</td>\n",
       "      <td>0.000000</td>\n",
       "      <td>0.000000</td>\n",
       "      <td>0.000000</td>\n",
       "      <td>0.000000</td>\n",
       "      <td>0.000000</td>\n",
       "      <td>0.000000</td>\n",
       "      <td>0.000000</td>\n",
       "    </tr>\n",
       "    <tr>\n",
       "      <th>25%</th>\n",
       "      <td>3.000000</td>\n",
       "      <td>1.000000</td>\n",
       "      <td>9.000000</td>\n",
       "      <td>0.000000</td>\n",
       "      <td>2.000000</td>\n",
       "      <td>1.000000</td>\n",
       "      <td>0.000000</td>\n",
       "      <td>0.000000</td>\n",
       "      <td>3.000000</td>\n",
       "      <td>1.000000</td>\n",
       "      <td>0.000000</td>\n",
       "      <td>0.000000</td>\n",
       "      <td>0.000000</td>\n",
       "      <td>1.000000</td>\n",
       "      <td>0.000000</td>\n",
       "      <td>0.000000</td>\n",
       "      <td>0.000000</td>\n",
       "      <td>0.000000</td>\n",
       "      <td>0.000000</td>\n",
       "      <td>0.000000</td>\n",
       "      <td>0.000000</td>\n",
       "      <td>0.000000</td>\n",
       "      <td>0.000000</td>\n",
       "      <td>0.000000</td>\n",
       "      <td>0.000000</td>\n",
       "      <td>0.000000</td>\n",
       "    </tr>\n",
       "    <tr>\n",
       "      <th>50%</th>\n",
       "      <td>4.000000</td>\n",
       "      <td>2.000000</td>\n",
       "      <td>111.000000</td>\n",
       "      <td>4.000000</td>\n",
       "      <td>6.000000</td>\n",
       "      <td>1.000000</td>\n",
       "      <td>0.000000</td>\n",
       "      <td>0.000000</td>\n",
       "      <td>3.000000</td>\n",
       "      <td>1.000000</td>\n",
       "      <td>0.000000</td>\n",
       "      <td>1.000000</td>\n",
       "      <td>0.000000</td>\n",
       "      <td>1.000000</td>\n",
       "      <td>0.000000</td>\n",
       "      <td>0.000000</td>\n",
       "      <td>0.000000</td>\n",
       "      <td>0.000000</td>\n",
       "      <td>0.000000</td>\n",
       "      <td>0.000000</td>\n",
       "      <td>0.000000</td>\n",
       "      <td>0.000000</td>\n",
       "      <td>0.000000</td>\n",
       "      <td>0.000000</td>\n",
       "      <td>0.000000</td>\n",
       "      <td>0.000000</td>\n",
       "    </tr>\n",
       "    <tr>\n",
       "      <th>75%</th>\n",
       "      <td>5.000000</td>\n",
       "      <td>4.000000</td>\n",
       "      <td>471.250000</td>\n",
       "      <td>14.000000</td>\n",
       "      <td>9.000000</td>\n",
       "      <td>4.000000</td>\n",
       "      <td>0.000000</td>\n",
       "      <td>3.000000</td>\n",
       "      <td>4.000000</td>\n",
       "      <td>1.000000</td>\n",
       "      <td>1.000000</td>\n",
       "      <td>1.000000</td>\n",
       "      <td>1.000000</td>\n",
       "      <td>1.000000</td>\n",
       "      <td>1.000000</td>\n",
       "      <td>0.000000</td>\n",
       "      <td>0.000000</td>\n",
       "      <td>0.000000</td>\n",
       "      <td>0.000000</td>\n",
       "      <td>0.000000</td>\n",
       "      <td>1.000000</td>\n",
       "      <td>0.000000</td>\n",
       "      <td>0.000000</td>\n",
       "      <td>0.750000</td>\n",
       "      <td>0.000000</td>\n",
       "      <td>0.000000</td>\n",
       "    </tr>\n",
       "    <tr>\n",
       "      <th>max</th>\n",
       "      <td>6.000000</td>\n",
       "      <td>4.000000</td>\n",
       "      <td>22402.000000</td>\n",
       "      <td>1008.000000</td>\n",
       "      <td>10.000000</td>\n",
       "      <td>7.000000</td>\n",
       "      <td>5.000000</td>\n",
       "      <td>14.000000</td>\n",
       "      <td>8.000000</td>\n",
       "      <td>1.000000</td>\n",
       "      <td>1.000000</td>\n",
       "      <td>1.000000</td>\n",
       "      <td>1.000000</td>\n",
       "      <td>1.000000</td>\n",
       "      <td>1.000000</td>\n",
       "      <td>1.000000</td>\n",
       "      <td>4.000000</td>\n",
       "      <td>2.000000</td>\n",
       "      <td>1.000000</td>\n",
       "      <td>4.000000</td>\n",
       "      <td>50.000000</td>\n",
       "      <td>1.000000</td>\n",
       "      <td>1.000000</td>\n",
       "      <td>1.000000</td>\n",
       "      <td>1.000000</td>\n",
       "      <td>1.000000</td>\n",
       "    </tr>\n",
       "  </tbody>\n",
       "</table>\n",
       "</div>"
      ],
      "text/plain": [
       "         Landmass        Zone          Area   Population    Language  \\\n",
       "count  194.000000  194.000000    194.000000   194.000000  194.000000   \n",
       "mean     3.572165    2.211340    700.046392    23.268041    5.340206   \n",
       "std      1.553018    1.308274   2170.927932    91.934085    3.496517   \n",
       "min      1.000000    1.000000      0.000000     0.000000    1.000000   \n",
       "25%      3.000000    1.000000      9.000000     0.000000    2.000000   \n",
       "50%      4.000000    2.000000    111.000000     4.000000    6.000000   \n",
       "75%      5.000000    4.000000    471.250000    14.000000    9.000000   \n",
       "max      6.000000    4.000000  22402.000000  1008.000000   10.000000   \n",
       "\n",
       "         Religion        Bars     Stripes      Colors         Red       Green  \\\n",
       "count  194.000000  194.000000  194.000000  194.000000  194.000000  194.000000   \n",
       "mean     2.190722    0.453608    1.551546    3.463918    0.788660    0.469072   \n",
       "std      2.061167    1.038339    2.328005    1.300154    0.409315    0.500334   \n",
       "min      0.000000    0.000000    0.000000    1.000000    0.000000    0.000000   \n",
       "25%      1.000000    0.000000    0.000000    3.000000    1.000000    0.000000   \n",
       "50%      1.000000    0.000000    0.000000    3.000000    1.000000    0.000000   \n",
       "75%      4.000000    0.000000    3.000000    4.000000    1.000000    1.000000   \n",
       "max      7.000000    5.000000   14.000000    8.000000    1.000000    1.000000   \n",
       "\n",
       "             Blue        Gold       White       Black      Orange     Circles  \\\n",
       "count  194.000000  194.000000  194.000000  194.000000  194.000000  194.000000   \n",
       "mean     0.510309    0.469072    0.752577    0.268041    0.134021    0.170103   \n",
       "std      0.501187    0.500334    0.432631    0.444085    0.341556    0.463075   \n",
       "min      0.000000    0.000000    0.000000    0.000000    0.000000    0.000000   \n",
       "25%      0.000000    0.000000    1.000000    0.000000    0.000000    0.000000   \n",
       "50%      1.000000    0.000000    1.000000    0.000000    0.000000    0.000000   \n",
       "75%      1.000000    1.000000    1.000000    1.000000    0.000000    0.000000   \n",
       "max      1.000000    1.000000    1.000000    1.000000    1.000000    4.000000   \n",
       "\n",
       "          Crosses    Saltires    Quarters    Sunstars    Crescent    Triangle  \\\n",
       "count  194.000000  194.000000  194.000000  194.000000  194.000000  194.000000   \n",
       "mean     0.149485    0.092784    0.149485    1.386598    0.056701    0.139175   \n",
       "std      0.385387    0.290879    0.435860    4.396186    0.231869    0.347025   \n",
       "min      0.000000    0.000000    0.000000    0.000000    0.000000    0.000000   \n",
       "25%      0.000000    0.000000    0.000000    0.000000    0.000000    0.000000   \n",
       "50%      0.000000    0.000000    0.000000    0.000000    0.000000    0.000000   \n",
       "75%      0.000000    0.000000    0.000000    1.000000    0.000000    0.000000   \n",
       "max      2.000000    1.000000    4.000000   50.000000    1.000000    1.000000   \n",
       "\n",
       "             Icon     Animate        Text  \n",
       "count  194.000000  194.000000  194.000000  \n",
       "mean     0.252577    0.201031    0.082474  \n",
       "std      0.435615    0.401808    0.275798  \n",
       "min      0.000000    0.000000    0.000000  \n",
       "25%      0.000000    0.000000    0.000000  \n",
       "50%      0.000000    0.000000    0.000000  \n",
       "75%      0.750000    0.000000    0.000000  \n",
       "max      1.000000    1.000000    1.000000  "
      ]
     },
     "execution_count": 39,
     "metadata": {},
     "output_type": "execute_result"
    }
   ],
   "source": [
    "flags.describe()"
   ]
  },
  {
   "cell_type": "markdown",
   "metadata": {},
   "source": [
    "Values in columns look good at the first glance, so let's proceed to selection of features and labels."
   ]
  },
  {
   "cell_type": "markdown",
   "metadata": {},
   "source": [
    "## Creating Features and Labels\n",
    "\n",
    "Let's start with the first part of the goal: the prediction of the country's continent. For this matter, the `Landmass` column seems like an obvious variant for labels within this set."
   ]
  },
  {
   "cell_type": "code",
   "execution_count": 42,
   "metadata": {},
   "outputs": [
    {
     "data": {
      "text/html": [
       "<div>\n",
       "<style scoped>\n",
       "    .dataframe tbody tr th:only-of-type {\n",
       "        vertical-align: middle;\n",
       "    }\n",
       "\n",
       "    .dataframe tbody tr th {\n",
       "        vertical-align: top;\n",
       "    }\n",
       "\n",
       "    .dataframe thead th {\n",
       "        text-align: right;\n",
       "    }\n",
       "</style>\n",
       "<table border=\"1\" class=\"dataframe\">\n",
       "  <thead>\n",
       "    <tr style=\"text-align: right;\">\n",
       "      <th></th>\n",
       "      <th>Landmass</th>\n",
       "    </tr>\n",
       "  </thead>\n",
       "  <tbody>\n",
       "    <tr>\n",
       "      <th>0</th>\n",
       "      <td>5</td>\n",
       "    </tr>\n",
       "    <tr>\n",
       "      <th>1</th>\n",
       "      <td>3</td>\n",
       "    </tr>\n",
       "    <tr>\n",
       "      <th>2</th>\n",
       "      <td>4</td>\n",
       "    </tr>\n",
       "    <tr>\n",
       "      <th>3</th>\n",
       "      <td>6</td>\n",
       "    </tr>\n",
       "    <tr>\n",
       "      <th>4</th>\n",
       "      <td>3</td>\n",
       "    </tr>\n",
       "  </tbody>\n",
       "</table>\n",
       "</div>"
      ],
      "text/plain": [
       "   Landmass\n",
       "0         5\n",
       "1         3\n",
       "2         4\n",
       "3         6\n",
       "4         3"
      ]
     },
     "execution_count": 42,
     "metadata": {},
     "output_type": "execute_result"
    }
   ],
   "source": [
    "labels1 = flags[['Landmass']]\n",
    "labels1.head()"
   ]
  },
  {
   "cell_type": "markdown",
   "metadata": {},
   "source": [
    "For prediction of country's language we'll require `Language` column as labels. "
   ]
  },
  {
   "cell_type": "code",
   "execution_count": 73,
   "metadata": {},
   "outputs": [
    {
     "data": {
      "text/html": [
       "<div>\n",
       "<style scoped>\n",
       "    .dataframe tbody tr th:only-of-type {\n",
       "        vertical-align: middle;\n",
       "    }\n",
       "\n",
       "    .dataframe tbody tr th {\n",
       "        vertical-align: top;\n",
       "    }\n",
       "\n",
       "    .dataframe thead th {\n",
       "        text-align: right;\n",
       "    }\n",
       "</style>\n",
       "<table border=\"1\" class=\"dataframe\">\n",
       "  <thead>\n",
       "    <tr style=\"text-align: right;\">\n",
       "      <th></th>\n",
       "      <th>Language</th>\n",
       "    </tr>\n",
       "  </thead>\n",
       "  <tbody>\n",
       "    <tr>\n",
       "      <th>0</th>\n",
       "      <td>10</td>\n",
       "    </tr>\n",
       "    <tr>\n",
       "      <th>1</th>\n",
       "      <td>6</td>\n",
       "    </tr>\n",
       "    <tr>\n",
       "      <th>2</th>\n",
       "      <td>8</td>\n",
       "    </tr>\n",
       "    <tr>\n",
       "      <th>3</th>\n",
       "      <td>1</td>\n",
       "    </tr>\n",
       "    <tr>\n",
       "      <th>4</th>\n",
       "      <td>6</td>\n",
       "    </tr>\n",
       "  </tbody>\n",
       "</table>\n",
       "</div>"
      ],
      "text/plain": [
       "   Language\n",
       "0        10\n",
       "1         6\n",
       "2         8\n",
       "3         1\n",
       "4         6"
      ]
     },
     "execution_count": 73,
     "metadata": {},
     "output_type": "execute_result"
    }
   ],
   "source": [
    "labels2 = flags[['Language']]\n",
    "labels2.head()"
   ]
  },
  {
   "cell_type": "markdown",
   "metadata": {},
   "source": [
    "We have our labels. Now we want to choose which columns will help our decision tree correctly classify those labels. Let's start with the columns that contain some descriptive statistics about the flags e.g. how many colors are present on a given flag, what are they, what symbols are depicted etc. We'll create two models: one that predict the continent the country is on, another - country's language. We'll also measure the accuracy score of each model. After that we'll try different approaches to feature selection and see if that somehow inproves our results with this type of algorithm.  "
   ]
  },
  {
   "cell_type": "code",
   "execution_count": 75,
   "metadata": {},
   "outputs": [],
   "source": [
    "data_flag_props = flags[['Bars', 'Stripes', 'Colors', 'Red', 'Green', 'Blue', 'Gold',\n",
    "       'White', 'Black', 'Orange', 'Circles', 'Crosses', 'Saltires',\n",
    "       'Quarters', 'Sunstars', 'Crescent', 'Triangle', 'Icon', 'Animate','Text']]"
   ]
  },
  {
   "cell_type": "markdown",
   "metadata": {},
   "source": [
    "Now let’s split theses dataframes into a training set and test set."
   ]
  },
  {
   "cell_type": "code",
   "execution_count": 87,
   "metadata": {},
   "outputs": [],
   "source": [
    "train_data1, test_data1, train_labels1, test_labels1 = train_test_split(data_flag_props, labels1, random_state = 2)\n",
    "train_data2, test_data2, train_labels2, test_labels2 = train_test_split(data_flag_props, labels2, random_state = 5)"
   ]
  },
  {
   "cell_type": "markdown",
   "metadata": {},
   "source": [
    "## Make and Test the Model\n",
    "\n",
    "We will try to fit our model on the current training data and labels and get an accuracy score based on test data and labels. They should be at least better than random guessing of 6 continents, which would give us right answers about 16% of the time."
   ]
  },
  {
   "cell_type": "code",
   "execution_count": 77,
   "metadata": {},
   "outputs": [
    {
     "name": "stdout",
     "output_type": "stream",
     "text": [
      "Accuracy: 31.0 %\n"
     ]
    }
   ],
   "source": [
    "tree_classifier = DecisionTreeClassifier(random_state = 2)\n",
    "tree_classifier.fit(train_data1, train_labels1) \n",
    "print('Accuracy:', round(tree_classifier.score(test_data1, test_labels1), 2) * 100, '%')"
   ]
  },
  {
   "cell_type": "markdown",
   "metadata": {},
   "source": [
    "Now we have a good baseline of how our model performs with these features. Let’s see if we can prune the tree to make it better. "
   ]
  },
  {
   "cell_type": "markdown",
   "metadata": {},
   "source": [
    "## Tuning the Model\n",
    "\n",
    "Decision Tree Model has a couple of good parameters that help to improve model's accuracy these are `max_depth` and `max_leaf_nodes`. By default, both of them equals to `None` meaning unlimited. For `max_depth` it means that nodes are expanded until all leaves are pure and  `max_leaf_nodes` in this situation will be \"myriad\", what can lead to overfitting on training data. Our current model's `max_depth` is:"
   ]
  },
  {
   "cell_type": "code",
   "execution_count": 78,
   "metadata": {},
   "outputs": [
    {
     "data": {
      "text/plain": [
       "14"
      ]
     },
     "execution_count": 78,
     "metadata": {},
     "output_type": "execute_result"
    }
   ],
   "source": [
    "tree_classifier.tree_.max_depth"
   ]
  },
  {
   "cell_type": "markdown",
   "metadata": {},
   "source": [
    "And final number of leaves is:"
   ]
  },
  {
   "cell_type": "code",
   "execution_count": 79,
   "metadata": {},
   "outputs": [
    {
     "data": {
      "text/plain": [
       "79"
      ]
     },
     "execution_count": 79,
     "metadata": {},
     "output_type": "execute_result"
    }
   ],
   "source": [
    "tree_classifier.tree_.n_leaves"
   ]
  },
  {
   "cell_type": "markdown",
   "metadata": {},
   "source": [
    "Let's find what optimal values would be for `max_depth` and `max_leaf_nodes` within our current classifier. "
   ]
  },
  {
   "cell_type": "code",
   "execution_count": 81,
   "metadata": {},
   "outputs": [],
   "source": [
    "def best_tree(train_data, train_labels, test_data, test_labels): \n",
    "    scores = []\n",
    "    best_depth= 0\n",
    "    best_score = 0\n",
    "    best_leaf_nodes = 0\n",
    "    best_classifier = None\n",
    "    for current_depth in range(1,21):\n",
    "        for current_leaf_nodes in range(2,101):\n",
    "            current_classifier = DecisionTreeClassifier(random_state = 2, max_depth = current_depth, max_leaf_nodes = current_leaf_nodes)\n",
    "            current_classifier.fit(train_data, train_labels) \n",
    "            current_score = current_classifier.score(test_data, test_labels)\n",
    "            if best_score < current_score:\n",
    "                scores.append(current_score)\n",
    "                best_score = current_score\n",
    "                best_depth = current_depth \n",
    "                best_classifier = current_classifier\n",
    "                best_leaf_nodes = current_leaf_nodes\n",
    "    return best_classifier, scores, best_score, best_depth, best_leaf_nodes"
   ]
  },
  {
   "cell_type": "code",
   "execution_count": 82,
   "metadata": {},
   "outputs": [
    {
     "name": "stdout",
     "output_type": "stream",
     "text": [
      "Accuracy: 47.0 %\n",
      "Depth: 6\n",
      "Maximum leaf nodes: 22\n"
     ]
    }
   ],
   "source": [
    "tree_classifier1, scores1, best_score1, best_depth1, best_leaf_nodes1 = best_tree(train_data1, train_labels1, test_data1, test_labels1)\n",
    "print('Accuracy:', round(best_score1, 2) * 100, '%')\n",
    "print('Depth:', best_depth1)\n",
    "print('Maximum leaf nodes:', best_leaf_nodes1)"
   ]
  },
  {
   "cell_type": "markdown",
   "metadata": {},
   "source": [
    "Rather than printing the score of each tree, let’s graph it! We want the x-axis to show the depth of the tree and the y-axis to show the tree’s score."
   ]
  },
  {
   "cell_type": "code",
   "execution_count": 83,
   "metadata": {},
   "outputs": [
    {
     "data": {
      "image/png": "[encoded data removed]",
      "text/plain": [
       "<Figure size 720x576 with 1 Axes>"
      ]
     },
     "metadata": {},
     "output_type": "display_data"
    }
   ],
   "source": [
    "def depth_change(scores):\n",
    "    # Prepare figure\n",
    "    plt.figure(figsize = (10,8))\n",
    "    sns.set(style='darkgrid')\n",
    "\n",
    "    # Draw plot\n",
    "    ax1=sns.scatterplot(x=range(len(scores)), y=scores, color='purple')\n",
    "    ax2=sns.lineplot(x=range(len(scores)), y=scores, color='purple')\n",
    "\n",
    "    # Add descriptions\n",
    "    plt.xlabel('Depth Values', fontsize=14)\n",
    "    plt.ylabel('Accuracy score (%)', fontsize=14)\n",
    "    plt.title('Accuracy Score Dependency from Tree Depth ', fontsize=15)\n",
    "\n",
    "    return plt.show()\n",
    "\n",
    "depth_change(scores1)"
   ]
  },
  {
   "cell_type": "markdown",
   "metadata": {},
   "source": [
    "Now let's check feature importance within our current `tree_classifier1`, with current `random_state = 2` on split for training and testing, because that matters too. "
   ]
  },
  {
   "cell_type": "code",
   "execution_count": 84,
   "metadata": {},
   "outputs": [
    {
     "data": {
      "text/plain": [
       "[(0.0, 'Bars'),\n",
       " (0.0, 'Blue'),\n",
       " (0.0, 'Gold'),\n",
       " (0.0, 'Icon'),\n",
       " (0.0, 'Orange'),\n",
       " (0.0, 'Quarters'),\n",
       " (0.0, 'Saltires'),\n",
       " (0.0, 'Triangle'),\n",
       " (0.034780641313937044, 'Text'),\n",
       " (0.043248054128992554, 'Crescent'),\n",
       " (0.04417969557377475, 'Circles'),\n",
       " (0.047853745858604156, 'Red'),\n",
       " (0.04839631051357239, 'Crosses'),\n",
       " (0.060507274412817454, 'Colors'),\n",
       " (0.0759570561139369, 'Black'),\n",
       " (0.08637452968132407, 'Animate'),\n",
       " (0.106004363558819, 'White'),\n",
       " (0.12551163121205494, 'Green'),\n",
       " (0.14230329857221372, 'Sunstars'),\n",
       " (0.18488339905995294, 'Stripes')]"
      ]
     },
     "execution_count": 84,
     "metadata": {},
     "output_type": "execute_result"
    }
   ],
   "source": [
    "sorted(zip(tree_classifier1.feature_importances_, tree_classifier1.feature_names_in_))"
   ]
  },
  {
   "cell_type": "markdown",
   "metadata": {},
   "source": [
    "Let's see what scores we'll get from  a model that predicts language. There are 10 types of values in language column, so random guessing would give us about 10% chance of correct answer. "
   ]
  },
  {
   "cell_type": "code",
   "execution_count": 88,
   "metadata": {},
   "outputs": [
    {
     "name": "stdout",
     "output_type": "stream",
     "text": [
      "Accuracy: 43.0 %\n",
      "Depth: 6\n",
      "Maximum leaf nodes: 14\n"
     ]
    }
   ],
   "source": [
    "tree_classifier2, scores2, best_score2, best_depth2, best_leaf_nodes2 = best_tree(train_data2, train_labels2, test_data2, test_labels2)\n",
    "print('Accuracy:', round(best_score2, 2) * 100, '%')\n",
    "print('Depth:', best_depth2)\n",
    "print('Maximum leaf nodes:', best_leaf_nodes2)"
   ]
  },
  {
   "cell_type": "code",
   "execution_count": 100,
   "metadata": {},
   "outputs": [
    {
     "data": {
      "image/png": "[encoded data removed]",
      "text/plain": [
       "<Figure size 720x576 with 1 Axes>"
      ]
     },
     "metadata": {},
     "output_type": "display_data"
    }
   ],
   "source": [
    "depth_change(scores2)"
   ]
  },
  {
   "cell_type": "markdown",
   "metadata": {},
   "source": [
    "Now let's check feature importance within our current `tree_classifier2`, with current `random_state = 5` on split for training and testing."
   ]
  },
  {
   "cell_type": "code",
   "execution_count": 89,
   "metadata": {},
   "outputs": [
    {
     "data": {
      "text/plain": [
       "[(0.0, 'Circles'),\n",
       " (0.0, 'Crescent'),\n",
       " (0.0, 'Green'),\n",
       " (0.0, 'Icon'),\n",
       " (0.0, 'Orange'),\n",
       " (0.0, 'Quarters'),\n",
       " (0.0, 'Text'),\n",
       " (0.0, 'Triangle'),\n",
       " (0.0, 'White'),\n",
       " (0.042102137479057375, 'Animate'),\n",
       " (0.0449008344791103, 'Stripes'),\n",
       " (0.0633097050231656, 'Gold'),\n",
       " (0.07149240670942701, 'Black'),\n",
       " (0.07484515405855881, 'Red'),\n",
       " (0.08065114659283022, 'Crosses'),\n",
       " (0.08239877614008814, 'Bars'),\n",
       " (0.09007632369487159, 'Blue'),\n",
       " (0.09363894910485722, 'Sunstars'),\n",
       " (0.15285005277860383, 'Saltires'),\n",
       " (0.20373451393942985, 'Colors')]"
      ]
     },
     "execution_count": 89,
     "metadata": {},
     "output_type": "execute_result"
    }
   ],
   "source": [
    "sorted(zip(tree_classifier2.feature_importances_, tree_classifier2.feature_names_in_))"
   ]
  },
  {
   "cell_type": "markdown",
   "metadata": {},
   "source": [
    "## Correlations based Feature Selection\n",
    "\n",
    "Now let's find features that have some correlation with `Landmass` features. We'll take all that have at least `0.1` positive or negative value of correlation. "
   ]
  },
  {
   "cell_type": "code",
   "execution_count": 95,
   "metadata": {},
   "outputs": [
    {
     "data": {
      "text/html": [
       "<div>\n",
       "<style scoped>\n",
       "    .dataframe tbody tr th:only-of-type {\n",
       "        vertical-align: middle;\n",
       "    }\n",
       "\n",
       "    .dataframe tbody tr th {\n",
       "        vertical-align: top;\n",
       "    }\n",
       "\n",
       "    .dataframe thead th {\n",
       "        text-align: right;\n",
       "    }\n",
       "</style>\n",
       "<table border=\"1\" class=\"dataframe\">\n",
       "  <thead>\n",
       "    <tr style=\"text-align: right;\">\n",
       "      <th></th>\n",
       "      <th>Landmass</th>\n",
       "      <th>Zone</th>\n",
       "      <th>Area</th>\n",
       "      <th>Population</th>\n",
       "      <th>Language</th>\n",
       "      <th>Religion</th>\n",
       "      <th>Bars</th>\n",
       "      <th>Stripes</th>\n",
       "      <th>Colors</th>\n",
       "      <th>Red</th>\n",
       "      <th>Green</th>\n",
       "      <th>Blue</th>\n",
       "      <th>Gold</th>\n",
       "      <th>White</th>\n",
       "      <th>Black</th>\n",
       "      <th>Orange</th>\n",
       "      <th>Circles</th>\n",
       "      <th>Crosses</th>\n",
       "      <th>Saltires</th>\n",
       "      <th>Quarters</th>\n",
       "      <th>Sunstars</th>\n",
       "      <th>Crescent</th>\n",
       "      <th>Triangle</th>\n",
       "      <th>Icon</th>\n",
       "      <th>Animate</th>\n",
       "      <th>Text</th>\n",
       "    </tr>\n",
       "  </thead>\n",
       "  <tbody>\n",
       "    <tr>\n",
       "      <th>Landmass</th>\n",
       "      <td>1.0</td>\n",
       "      <td>-0.615759</td>\n",
       "      <td>0.013279</td>\n",
       "      <td>0.10594</td>\n",
       "      <td>0.4964</td>\n",
       "      <td>0.325073</td>\n",
       "      <td>-0.13929</td>\n",
       "      <td>-0.063375</td>\n",
       "      <td>-0.062856</td>\n",
       "      <td>0.0934</td>\n",
       "      <td>0.026226</td>\n",
       "      <td>-0.177366</td>\n",
       "      <td>-0.080465</td>\n",
       "      <td>-0.004134</td>\n",
       "      <td>-0.058243</td>\n",
       "      <td>0.020744</td>\n",
       "      <td>0.065696</td>\n",
       "      <td>-0.031103</td>\n",
       "      <td>-0.003429</td>\n",
       "      <td>-0.004537</td>\n",
       "      <td>-0.034843</td>\n",
       "      <td>0.168438</td>\n",
       "      <td>-0.033154</td>\n",
       "      <td>0.030359</td>\n",
       "      <td>-0.118856</td>\n",
       "      <td>-0.110743</td>\n",
       "    </tr>\n",
       "  </tbody>\n",
       "</table>\n",
       "</div>"
      ],
      "text/plain": [
       "          Landmass      Zone      Area  Population  Language  Religion  \\\n",
       "Landmass       1.0 -0.615759  0.013279     0.10594    0.4964  0.325073   \n",
       "\n",
       "             Bars   Stripes    Colors     Red     Green      Blue      Gold  \\\n",
       "Landmass -0.13929 -0.063375 -0.062856  0.0934  0.026226 -0.177366 -0.080465   \n",
       "\n",
       "             White     Black    Orange   Circles   Crosses  Saltires  \\\n",
       "Landmass -0.004134 -0.058243  0.020744  0.065696 -0.031103 -0.003429   \n",
       "\n",
       "          Quarters  Sunstars  Crescent  Triangle      Icon   Animate      Text  \n",
       "Landmass -0.004537 -0.034843  0.168438 -0.033154  0.030359 -0.118856 -0.110743  "
      ]
     },
     "execution_count": 95,
     "metadata": {},
     "output_type": "execute_result"
    }
   ],
   "source": [
    "flags.corr().head(1)"
   ]
  },
  {
   "cell_type": "code",
   "execution_count": 52,
   "metadata": {},
   "outputs": [],
   "source": [
    "data_corr_land = flags[['Zone', 'Population', 'Language',  'Religion', 'Bars', 'Blue', 'Crescent', 'Animate', 'Text']]"
   ]
  },
  {
   "cell_type": "code",
   "execution_count": 106,
   "metadata": {},
   "outputs": [],
   "source": [
    "train_data3, test_data3, train_labels3, test_labels3 = train_test_split(data_corr_land, labels1, random_state = 8)"
   ]
  },
  {
   "cell_type": "code",
   "execution_count": 107,
   "metadata": {},
   "outputs": [
    {
     "name": "stdout",
     "output_type": "stream",
     "text": [
      "Accuracy: 86.0 %\n",
      "Depth: 5\n",
      "Maximum leaf nodes: 12\n"
     ]
    }
   ],
   "source": [
    "tree_classifier3, scores3, best_score3, best_depth3, best_leaf_nodes3 = best_tree(train_data3, train_labels3, test_data3, test_labels3)\n",
    "print('Accuracy:', round(best_score3, 2) * 100, '%')\n",
    "print('Depth:', best_depth3)\n",
    "print('Maximum leaf nodes:', best_leaf_nodes3)"
   ]
  },
  {
   "cell_type": "code",
   "execution_count": 108,
   "metadata": {},
   "outputs": [
    {
     "data": {
      "text/plain": [
       "[(0.0, 'Animate'),\n",
       " (0.0, 'Bars'),\n",
       " (0.0, 'Blue'),\n",
       " (0.0, 'Crescent'),\n",
       " (0.0, 'Text'),\n",
       " (0.031663260469071794, 'Population'),\n",
       " (0.22043154982294688, 'Language'),\n",
       " (0.33995645936627084, 'Religion'),\n",
       " (0.4079487303417105, 'Zone')]"
      ]
     },
     "execution_count": 108,
     "metadata": {},
     "output_type": "execute_result"
    }
   ],
   "source": [
    "sorted(zip(tree_classifier3.feature_importances_, tree_classifier3.feature_names_in_))"
   ]
  },
  {
   "cell_type": "code",
   "execution_count": 93,
   "metadata": {},
   "outputs": [
    {
     "data": {
      "image/png": "[encoded data removed]",
      "text/plain": [
       "<Figure size 720x576 with 1 Axes>"
      ]
     },
     "metadata": {},
     "output_type": "display_data"
    }
   ],
   "source": [
    "depth_change(scores3)"
   ]
  },
  {
   "cell_type": "markdown",
   "metadata": {},
   "source": [
    "Let's predict language using correlations for feature modelling. We'll also take all features that have at least `0.1` positive or negative value of correlation. "
   ]
  },
  {
   "cell_type": "code",
   "execution_count": 94,
   "metadata": {},
   "outputs": [
    {
     "data": {
      "text/html": [
       "<div>\n",
       "<style scoped>\n",
       "    .dataframe tbody tr th:only-of-type {\n",
       "        vertical-align: middle;\n",
       "    }\n",
       "\n",
       "    .dataframe tbody tr th {\n",
       "        vertical-align: top;\n",
       "    }\n",
       "\n",
       "    .dataframe thead th {\n",
       "        text-align: right;\n",
       "    }\n",
       "</style>\n",
       "<table border=\"1\" class=\"dataframe\">\n",
       "  <thead>\n",
       "    <tr style=\"text-align: right;\">\n",
       "      <th></th>\n",
       "      <th>Landmass</th>\n",
       "      <th>Zone</th>\n",
       "      <th>Area</th>\n",
       "      <th>Population</th>\n",
       "      <th>Language</th>\n",
       "      <th>Religion</th>\n",
       "      <th>Bars</th>\n",
       "      <th>Stripes</th>\n",
       "      <th>Colors</th>\n",
       "      <th>Red</th>\n",
       "      <th>Green</th>\n",
       "      <th>Blue</th>\n",
       "      <th>Gold</th>\n",
       "      <th>White</th>\n",
       "      <th>Black</th>\n",
       "      <th>Orange</th>\n",
       "      <th>Circles</th>\n",
       "      <th>Crosses</th>\n",
       "      <th>Saltires</th>\n",
       "      <th>Quarters</th>\n",
       "      <th>Sunstars</th>\n",
       "      <th>Crescent</th>\n",
       "      <th>Triangle</th>\n",
       "      <th>Icon</th>\n",
       "      <th>Animate</th>\n",
       "      <th>Text</th>\n",
       "    </tr>\n",
       "  </thead>\n",
       "  <tbody>\n",
       "    <tr>\n",
       "      <th>Language</th>\n",
       "      <td>0.4964</td>\n",
       "      <td>-0.618387</td>\n",
       "      <td>-0.027869</td>\n",
       "      <td>0.062804</td>\n",
       "      <td>1.0</td>\n",
       "      <td>0.422315</td>\n",
       "      <td>-0.049862</td>\n",
       "      <td>0.105409</td>\n",
       "      <td>-0.197883</td>\n",
       "      <td>-0.011048</td>\n",
       "      <td>0.006046</td>\n",
       "      <td>-0.262201</td>\n",
       "      <td>-0.189429</td>\n",
       "      <td>-0.046823</td>\n",
       "      <td>0.094465</td>\n",
       "      <td>-0.064407</td>\n",
       "      <td>0.098476</td>\n",
       "      <td>-0.210966</td>\n",
       "      <td>-0.296106</td>\n",
       "      <td>-0.220535</td>\n",
       "      <td>-0.126241</td>\n",
       "      <td>0.193375</td>\n",
       "      <td>-0.064845</td>\n",
       "      <td>0.028336</td>\n",
       "      <td>-0.133756</td>\n",
       "      <td>-0.082977</td>\n",
       "    </tr>\n",
       "  </tbody>\n",
       "</table>\n",
       "</div>"
      ],
      "text/plain": [
       "          Landmass      Zone      Area  Population  Language  Religion  \\\n",
       "Language    0.4964 -0.618387 -0.027869    0.062804       1.0  0.422315   \n",
       "\n",
       "              Bars   Stripes    Colors       Red     Green      Blue  \\\n",
       "Language -0.049862  0.105409 -0.197883 -0.011048  0.006046 -0.262201   \n",
       "\n",
       "              Gold     White     Black    Orange   Circles   Crosses  \\\n",
       "Language -0.189429 -0.046823  0.094465 -0.064407  0.098476 -0.210966   \n",
       "\n",
       "          Saltires  Quarters  Sunstars  Crescent  Triangle      Icon  \\\n",
       "Language -0.296106 -0.220535 -0.126241  0.193375 -0.064845  0.028336   \n",
       "\n",
       "           Animate      Text  \n",
       "Language -0.133756 -0.082977  "
      ]
     },
     "execution_count": 94,
     "metadata": {},
     "output_type": "execute_result"
    }
   ],
   "source": [
    "flags.corr()[4:5]"
   ]
  },
  {
   "cell_type": "markdown",
   "metadata": {},
   "source": [
    "Seems like `Landmass` and `Religion` have similar positive correlation values, so let's remove feature with lower value - `Religion` - to improve final accuracy of the model. "
   ]
  },
  {
   "cell_type": "code",
   "execution_count": 57,
   "metadata": {},
   "outputs": [],
   "source": [
    "data_corr_lang = flags[['Landmass', 'Zone', 'Population', 'Stripes', 'Colors', 'Blue', \n",
    "    'Gold', 'Crosses', 'Saltires', 'Quarters', 'Sunstars', 'Crescent', 'Animate']]"
   ]
  },
  {
   "cell_type": "code",
   "execution_count": 96,
   "metadata": {},
   "outputs": [],
   "source": [
    "train_data4, test_data4, train_labels4, test_labels4 = train_test_split(data_corr_lang, labels2, random_state = 5)"
   ]
  },
  {
   "cell_type": "code",
   "execution_count": 97,
   "metadata": {},
   "outputs": [
    {
     "name": "stdout",
     "output_type": "stream",
     "text": [
      "Accuracy: 63.0 %\n",
      "Depth: 6\n",
      "Maximum leaf nodes: 14\n"
     ]
    }
   ],
   "source": [
    "tree_classifier4, scores4, best_score4, best_depth4, best_leaf_nodes4 = best_tree(train_data4, train_labels4, test_data4, test_labels4)\n",
    "print('Accuracy:', round(best_score4, 2) * 100, '%')\n",
    "print('Depth:', best_depth4)\n",
    "print('Maximum leaf nodes:', best_leaf_nodes4)"
   ]
  },
  {
   "cell_type": "code",
   "execution_count": 98,
   "metadata": {},
   "outputs": [
    {
     "data": {
      "text/plain": [
       "[(0.0, 'Crescent'),\n",
       " (0.0, 'Crosses'),\n",
       " (0.0, 'Quarters'),\n",
       " (0.0, 'Saltires'),\n",
       " (0.029145049088960706, 'Animate'),\n",
       " (0.034483980687105543, 'Stripes'),\n",
       " (0.040553161288036134, 'Colors'),\n",
       " (0.053984333687421754, 'Blue'),\n",
       " (0.06542103764639451, 'Gold'),\n",
       " (0.078264147092214, 'Sunstars'),\n",
       " (0.17949116280641852, 'Population'),\n",
       " (0.25019499931812744, 'Landmass'),\n",
       " (0.26846212838532135, 'Zone')]"
      ]
     },
     "execution_count": 98,
     "metadata": {},
     "output_type": "execute_result"
    }
   ],
   "source": [
    "sorted(zip(tree_classifier4.feature_importances_, tree_classifier4.feature_names_in_))"
   ]
  },
  {
   "cell_type": "code",
   "execution_count": 99,
   "metadata": {},
   "outputs": [
    {
     "data": {
      "image/png": "[encoded data removed]",
      "text/plain": [
       "<Figure size 720x576 with 1 Axes>"
      ]
     },
     "metadata": {},
     "output_type": "display_data"
    }
   ],
   "source": [
    "depth_change(scores4)"
   ]
  },
  {
   "cell_type": "markdown",
   "metadata": {},
   "source": [
    "## Feature Selection within Model\n",
    "\n",
    "We have a pretty big range of features, and we have a tree model that is capable of selecting those that supply the maximum information gain. Let's try to find which of the entire feature set are really matter for the model. \n",
    "\n",
    "Note: number of features that model selects also depends on split, we'll use `random_state = 2`, although this split wouln't be the same the one before."
   ]
  },
  {
   "cell_type": "code",
   "execution_count": 105,
   "metadata": {},
   "outputs": [
    {
     "name": "stdout",
     "output_type": "stream",
     "text": [
      "Accuracy: 82.0 %\n",
      "Depth: 5\n",
      "Maximum leaf nodes: 11\n"
     ]
    }
   ],
   "source": [
    "data_all_land = flags[['Zone', 'Area', 'Population', 'Language',\n",
    "    'Religion', 'Bars', 'Stripes', 'Colors', 'Red', 'Green', 'Blue', 'Gold',\n",
    "    'White', 'Black', 'Orange', 'Circles', 'Crosses', 'Saltires',\n",
    "    'Quarters', 'Sunstars', 'Crescent', 'Triangle', 'Icon', 'Animate','Text']]\n",
    "\n",
    "train_data5, test_data5, train_labels5, test_labels5 = train_test_split(data_all_land, labels1, random_state = 2)\n",
    "\n",
    "tree_classifier5, scores5, best_score5, best_depth5, best_leaf_nodes5 = best_tree(train_data5, train_labels5, test_data5, test_labels5)\n",
    "print('Accuracy:', round(best_score5, 2) * 100, '%')\n",
    "print('Depth:', best_depth5)\n",
    "print('Maximum leaf nodes:', best_leaf_nodes5)"
   ]
  },
  {
   "cell_type": "markdown",
   "metadata": {},
   "source": [
    "Result: Accuracy score increased, but not all data splits on training and testing sets are that lucky, some result in 65% or even less accuracy.  "
   ]
  },
  {
   "cell_type": "code",
   "execution_count": 64,
   "metadata": {},
   "outputs": [
    {
     "data": {
      "image/png": "[encoded data removed]",
      "text/plain": [
       "<Figure size 720x576 with 1 Axes>"
      ]
     },
     "metadata": {},
     "output_type": "display_data"
    }
   ],
   "source": [
    "depth_change(scores5)"
   ]
  },
  {
   "cell_type": "markdown",
   "metadata": {},
   "source": [
    "Now let's check wich features were important for the last model. "
   ]
  },
  {
   "cell_type": "code",
   "execution_count": 109,
   "metadata": {},
   "outputs": [
    {
     "data": {
      "text/plain": [
       "[(0.0, 'Animate'),\n",
       " (0.0, 'Bars'),\n",
       " (0.0, 'Black'),\n",
       " (0.0, 'Blue'),\n",
       " (0.0, 'Circles'),\n",
       " (0.0, 'Colors'),\n",
       " (0.0, 'Crescent'),\n",
       " (0.0, 'Crosses'),\n",
       " (0.0, 'Gold'),\n",
       " (0.0, 'Green'),\n",
       " (0.0, 'Icon'),\n",
       " (0.0, 'Orange'),\n",
       " (0.0, 'Population'),\n",
       " (0.0, 'Quarters'),\n",
       " (0.0, 'Red'),\n",
       " (0.0, 'Saltires'),\n",
       " (0.0, 'Stripes'),\n",
       " (0.0, 'Text'),\n",
       " (0.0, 'Triangle'),\n",
       " (0.0, 'White'),\n",
       " (0.0723392357386348, 'Sunstars'),\n",
       " (0.0937510139171764, 'Language'),\n",
       " (0.1584176485168268, 'Area'),\n",
       " (0.24227701265431537, 'Religion'),\n",
       " (0.4332150891730467, 'Zone')]"
      ]
     },
     "execution_count": 109,
     "metadata": {},
     "output_type": "execute_result"
    }
   ],
   "source": [
    "sorted(zip(tree_classifier5.feature_importances_, tree_classifier5.feature_names_in_))"
   ]
  },
  {
   "cell_type": "code",
   "execution_count": 110,
   "metadata": {},
   "outputs": [
    {
     "data": {
      "image/png": "[encoded data removed]",
      "text/plain": [
       "<Figure size 1512x648 with 1 Axes>"
      ]
     },
     "metadata": {},
     "output_type": "display_data"
    }
   ],
   "source": [
    "def visualise_barchart(feature_lst, values, labels):\n",
    "    # Prepare grid\n",
    "    plt.figure(figsize = (21,9))\n",
    "    \n",
    "    # Draw barplot\n",
    "    ax = sns.barplot(x = feature_lst, y = values, palette='plasma')\n",
    "\n",
    "    # Add descriptions\n",
    "    plt.title('Features\\' Influence within Tree Model', fontsize='x-large')\n",
    "    plt.xlabel('Features', fontsize='large')\n",
    "    plt.ylabel('Coeficients', fontsize='large')\n",
    "    ax.set_xticklabels(labels, rotation=30)\n",
    "\n",
    "    return plt.show()\n",
    "\n",
    "visualise_barchart(\n",
    "    tree_classifier5.feature_importances_[:], \n",
    "    tree_classifier5.feature_importances_[:], \n",
    "    labels = ['Other', 'Area', 'Sunstars', 'Language', 'Religion', 'Zone'])"
   ]
  },
  {
   "cell_type": "code",
   "execution_count": 115,
   "metadata": {},
   "outputs": [
    {
     "name": "stdout",
     "output_type": "stream",
     "text": [
      "Accuracy: 63.0 %\n",
      "Depth: 4\n",
      "Maximum leaf nodes: 7\n"
     ]
    }
   ],
   "source": [
    "data_all_lang = flags[['Landmass','Zone', 'Area', 'Population',\n",
    "    'Religion', 'Bars', 'Stripes', 'Colors', 'Red', 'Green', 'Blue', 'Gold',\n",
    "    'White', 'Black', 'Orange', 'Circles', 'Crosses', 'Saltires',\n",
    "    'Quarters', 'Sunstars', 'Crescent', 'Triangle', 'Icon', 'Animate',\n",
    "    'Text']]\n",
    "\n",
    "train_data6, test_data6, train_labels6, test_labels6 = train_test_split(data_all_lang, labels2, random_state = 5)\n",
    "\n",
    "tree_classifier6, scores6, best_score6, best_depth6, best_leaf_nodes6 = best_tree(train_data6, train_labels6, test_data6, test_labels6)\n",
    "print('Accuracy:', round(best_score6, 2) * 100, '%')\n",
    "print('Depth:', best_depth6)\n",
    "print('Maximum leaf nodes:', best_leaf_nodes6)"
   ]
  },
  {
   "cell_type": "code",
   "execution_count": 116,
   "metadata": {},
   "outputs": [
    {
     "data": {
      "text/plain": [
       "[(0.0, 'Animate'),\n",
       " (0.0, 'Bars'),\n",
       " (0.0, 'Black'),\n",
       " (0.0, 'Blue'),\n",
       " (0.0, 'Circles'),\n",
       " (0.0, 'Colors'),\n",
       " (0.0, 'Crescent'),\n",
       " (0.0, 'Crosses'),\n",
       " (0.0, 'Gold'),\n",
       " (0.0, 'Green'),\n",
       " (0.0, 'Icon'),\n",
       " (0.0, 'Orange'),\n",
       " (0.0, 'Population'),\n",
       " (0.0, 'Quarters'),\n",
       " (0.0, 'Red'),\n",
       " (0.0, 'Saltires'),\n",
       " (0.0, 'Stripes'),\n",
       " (0.0, 'Sunstars'),\n",
       " (0.0, 'Text'),\n",
       " (0.0, 'Triangle'),\n",
       " (0.0, 'White'),\n",
       " (0.11231942626720658, 'Area'),\n",
       " (0.16799987917608197, 'Landmass'),\n",
       " (0.26345664401775665, 'Zone'),\n",
       " (0.4562240505389548, 'Religion')]"
      ]
     },
     "execution_count": 116,
     "metadata": {},
     "output_type": "execute_result"
    }
   ],
   "source": [
    "sorted(zip(tree_classifier6.feature_importances_, tree_classifier6.feature_names_in_))"
   ]
  },
  {
   "cell_type": "markdown",
   "metadata": {},
   "source": [
    "## Conclusion\n",
    "\n",
    "TBC"
   ]
  }
 ],
 "metadata": {
  "kernelspec": {
   "display_name": "Python 3.10.7 64-bit (microsoft store)",
   "language": "python",
   "name": "python3"
  },
  "language_info": {
   "codemirror_mode": {
    "name": "ipython",
    "version": 3
   },
   "file_extension": ".py",
   "mimetype": "text/x-python",
   "name": "python",
   "nbconvert_exporter": "python",
   "pygments_lexer": "ipython3",
   "version": "3.10.7"
  },
  "orig_nbformat": 4,
  "vscode": {
   "interpreter": {
    "hash": "a166e61b3f1e7b9ccc9f59f78d7cc3087a9ccbb0b1a7cff444b301613a633a54"
   }
  }
 },
 "nbformat": 4,
 "nbformat_minor": 2
}
